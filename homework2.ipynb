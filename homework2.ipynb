{
 "cells": [
  {
   "attachments": {},
   "cell_type": "markdown",
   "metadata": {},
   "source": [
    "1. Вероятность того, что стрелок попадет в мишень, выстрелив один раз, равна 0.8. Стрелок выстрелил 100 раз. Найдите вероятность того, что стрелок попадет в цель ровно 85 раз."
   ]
  },
  {
   "cell_type": "code",
   "execution_count": 5,
   "metadata": {},
   "outputs": [],
   "source": [
    "import pandas as pd\n",
    "import numpy as np\n",
    "from math import factorial as fl"
   ]
  },
  {
   "cell_type": "code",
   "execution_count": 6,
   "metadata": {},
   "outputs": [
    {
     "name": "stdout",
     "output_type": "stream",
     "text": [
      "Вероятность того, что стрелок из ста выстрелов попадет в мишень ровно 85 раз = 0.0481\n"
     ]
    }
   ],
   "source": [
    "P100 = (fl(100) / (fl(85) * fl(100 - 85))) * 0.8 ** 85 * 0.2 ** (100 - 85)\n",
    "print(f'Вероятность того, что стрелок из ста выстрелов попадет в мишень ровно 85 раз = {P100 :.4f}')"
   ]
  },
  {
   "attachments": {},
   "cell_type": "markdown",
   "metadata": {},
   "source": [
    "2. Вероятность того, что лампочка перегорит в течение первого дня эксплуатации, равна 0.0004. В жилом комплексе после ремонта в один день включили 5000 новых лампочек. Какова вероятность, что ни одна из них не перегорит в первый день? Какова вероятность, что перегорят ровно две?"
   ]
  },
  {
   "cell_type": "code",
   "execution_count": 16,
   "metadata": {},
   "outputs": [
    {
     "name": "stdout",
     "output_type": "stream",
     "text": [
      "Вероятность, что перегорят ровно две = 0.2707\n"
     ]
    }
   ],
   "source": [
    "lmbd = 5000*0.0004\n",
    "m = 2\n",
    "lmbd**m/fl(m)*np.exp(-lmbd)\n",
    "print(f'Вероятность, что перегорят ровно две = {lmbd**m/fl(m)*np.exp(-lmbd) :.4f}')"
   ]
  },
  {
   "cell_type": "code",
   "execution_count": null,
   "metadata": {},
   "outputs": [],
   "source": [
    "lmbd = 5000*0.0004\n",
    "m = 2\n",
    "lmbd**m/fl(m)*np.exp(-lmbd)\n",
    "print(f'Вероятность, что ни одна из них не перегорит в первый день = {lmbd**m/fl(m)*np.exp(-lmbd) :.4f}')"
   ]
  },
  {
   "attachments": {},
   "cell_type": "markdown",
   "metadata": {},
   "source": [
    "3. Монету подбросили 144 раза. Какова вероятность, что орел выпадет ровно 70 раз?"
   ]
  },
  {
   "cell_type": "code",
   "execution_count": 7,
   "metadata": {},
   "outputs": [
    {
     "name": "stdout",
     "output_type": "stream",
     "text": [
      "Вероятность того, что орел выпадет ровно 70 раз = 0.0628\n"
     ]
    }
   ],
   "source": [
    "P144 = (fl(144) / (fl(70) * fl(144 - 70))) * 0.5 ** 70 * 0.5 ** (144 - 70)\n",
    "\n",
    "print(f'Вероятность того, что орел выпадет ровно 70 раз = {P144 :.4f}')"
   ]
  },
  {
   "attachments": {},
   "cell_type": "markdown",
   "metadata": {},
   "source": [
    "4. В первом ящике находится 10 мячей, из которых 7 - белые. Во втором ящике - 11 мячей, из которых 9 белых. Из каждого ящика вытаскивают случайным образом по два мяча. Какова вероятность того, что все мячи белые? Какова вероятность того, что ровно два мяча белые? Какова вероятность того, что хотя бы один мяч белый?"
   ]
  },
  {
   "cell_type": "code",
   "execution_count": 9,
   "metadata": {},
   "outputs": [
    {
     "name": "stdout",
     "output_type": "stream",
     "text": [
      "Вероятность того, что оба билета выигрышные = 0.30545\n"
     ]
    }
   ],
   "source": [
    "A7 = (fl(7) / (fl(2)*fl(7 - 2))) / (fl(10) / (fl(2)*fl(10 - 2)))\n",
    "A9 = (fl(9) / (fl(2)*fl(9 - 2))) / (fl(11) / (fl(2)*fl(11 - 2)))\n",
    "A79 = A7*A9\n",
    "print(f'Вероятность того, что все мячи белые = {A79 :.5f}')"
   ]
  },
  {
   "cell_type": "code",
   "execution_count": 10,
   "metadata": {},
   "outputs": [
    {
     "name": "stdout",
     "output_type": "stream",
     "text": [
      "Вероятность того, что ровно два мяча белые = 0.20485\n"
     ]
    }
   ],
   "source": [
    "A22 = (7/10)*(6/9)*(2/11)*(1/10) + (7/10)*(3/9)*(9/11)*(2/10) + (7/10)*(3/9)*(2/11)*(9/10) + \\\n",
    "(3/10)*(7/9)*(9/11)*(2/10) + (3/10)*(7/9)*(2/11)*(9/10) + (3/10)*(2/9)*(9/11)*(8/10)\n",
    "print(f'Вероятность того, что ровно два мяча белые = {A22 :.5f}')"
   ]
  },
  {
   "cell_type": "code",
   "execution_count": 11,
   "metadata": {},
   "outputs": [
    {
     "name": "stdout",
     "output_type": "stream",
     "text": [
      "Вероятность того, что ровно два мяча белые = 0.99879\n"
     ]
    }
   ],
   "source": [
    "A23 = 1-(3/10*2/9*2/11*1/10)\n",
    "print(f'Вероятность того, что ровно два мяча белые = {A23 :.5f}')"
   ]
  }
 ],
 "metadata": {
  "kernelspec": {
   "display_name": "Python 3",
   "language": "python",
   "name": "python3"
  },
  "language_info": {
   "codemirror_mode": {
    "name": "ipython",
    "version": 3
   },
   "file_extension": ".py",
   "mimetype": "text/x-python",
   "name": "python",
   "nbconvert_exporter": "python",
   "pygments_lexer": "ipython3",
   "version": "3.11.3"
  },
  "orig_nbformat": 4,
  "vscode": {
   "interpreter": {
    "hash": "611a7d192ee849aafa35695c9971dd29b16bb2ccd19ddfb98f011125ac6fba67"
   }
  }
 },
 "nbformat": 4,
 "nbformat_minor": 2
}
