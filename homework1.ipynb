{
 "cells": [
  {
   "attachments": {},
   "cell_type": "markdown",
   "metadata": {},
   "source": [
    "Задача 1. Из колоды в 52 карты извлекаются случайным образом 4 карты. a) Найти вероятность того, что все 4 карты – крести. б) Найти вероятность, что среди 4-х карт окажется хотя бы один туз."
   ]
  },
  {
   "cell_type": "code",
   "execution_count": 2,
   "metadata": {},
   "outputs": [],
   "source": [
    "from math import factorial"
   ]
  },
  {
   "cell_type": "code",
   "execution_count": 7,
   "metadata": {},
   "outputs": [
    {
     "name": "stdout",
     "output_type": "stream",
     "text": [
      "Вероятность того, что все карты - крести = 0.0026\n"
     ]
    }
   ],
   "source": [
    "A = ((factorial(13) / (factorial(4)*factorial(13 - 4)))) / ((factorial(52) / (factorial(4)*factorial(52 - 4))))\n",
    "\n",
    "print(f'Вероятность того, что все карты - крести = {A :.4f}') // 0.0026"
   ]
  },
  {
   "cell_type": "code",
   "execution_count": 27,
   "metadata": {},
   "outputs": [
    {
     "name": "stdout",
     "output_type": "stream",
     "text": [
      "Вероятность того, что среди 4-х карт окажется хотя бы один туз = 0.28\n"
     ]
    }
   ],
   "source": [
    "n = ((factorial(52) / (factorial(4)*factorial(52 - 4))))\n",
    "P1 = (factorial(4) / (factorial(1)*factorial(4 - 1))) * (factorial(48) / (factorial(3)*factorial(48 - 3))) / n\n",
    "P2 = (factorial(4) / (factorial(2)*factorial(4 - 2))) * (factorial(48) / (factorial(2)*factorial(48 - 2))) / n\n",
    "P3 = (factorial(4) / (factorial(3)*factorial(4 - 3))) * (factorial(48) / (factorial(1)*factorial(48 - 1))) / n\n",
    "P4 = factorial(4) / (factorial(4)*factorial(4 - 4)) / n\n",
    "B = P1 + P2 + P3 + P4\n",
    "\n",
    "print(f'Вероятность того, что среди 4-х карт окажется хотя бы один туз = {B :.2f}') "
   ]
  },
  {
   "attachments": {},
   "cell_type": "markdown",
   "metadata": {},
   "source": [
    "Задача 2. На входной двери подъезда установлен кодовый замок, содержащий десять кнопок с цифрами от 0 до 9. Код содержит три цифры, которые нужно нажать одновременно . Какова вероятность того, что человек, не знающий код, откроет дверь с первой попытки?"
   ]
  },
  {
   "cell_type": "code",
   "execution_count": 29,
   "metadata": {},
   "outputs": [
    {
     "name": "stdout",
     "output_type": "stream",
     "text": [
      "Вероятность того, что человек, не знающий код, откроет дверь с первой попытки = 0.0014\n"
     ]
    }
   ],
   "source": [
    "a = 1 / ((factorial(10) / factorial(10 - 3)))\n",
    "print(f'Вероятность того, что человек, не знающий код, откроет дверь с первой попытки = {a :.4f}')"
   ]
  },
  {
   "attachments": {},
   "cell_type": "markdown",
   "metadata": {},
   "source": [
    "Задача 3.В ящике имеется 15 деталей, из которых 9 окрашены. Рабочий случайным образом извлекает 3 детали. Какова вероятность того, что все 3 извлеченные детали окрашены?"
   ]
  },
  {
   "cell_type": "code",
   "execution_count": 31,
   "metadata": {},
   "outputs": [
    {
     "name": "stdout",
     "output_type": "stream",
     "text": [
      "Вероятность того, что все 3 извлеченные детали окрашены = 0.1846\n"
     ]
    }
   ],
   "source": [
    "a1 = ((factorial(9) / (factorial(3)*factorial(9 - 3))))\n",
    "n1 = ((factorial(15) / (factorial(3)*factorial(15 - 3))))\n",
    "print(f'Вероятность того, что все 3 извлеченные детали окрашены = {a1/n1 :.4f}')"
   ]
  },
  {
   "attachments": {},
   "cell_type": "markdown",
   "metadata": {},
   "source": [
    "Задача 4. В лотерее 100 билетов. Из них 2 выигрышных. Какова вероятность того, что 2 приобретенных билета окажутся выигрышными?"
   ]
  },
  {
   "cell_type": "code",
   "execution_count": 39,
   "metadata": {},
   "outputs": [
    {
     "name": "stdout",
     "output_type": "stream",
     "text": [
      "Вероятность того, что оба билета выигрышные = 0.00020\n"
     ]
    }
   ],
   "source": [
    "D = (factorial(2) / (factorial(2)*factorial(2 - 2))) / (factorial(100) / (factorial(2)*factorial(100 - 2)))\n",
    "print(f'Вероятность того, что оба билета выигрышные = {D :.5f}')\n"
   ]
  }
 ],
 "metadata": {
  "kernelspec": {
   "display_name": "Python 3",
   "language": "python",
   "name": "python3"
  },
  "language_info": {
   "codemirror_mode": {
    "name": "ipython",
    "version": 3
   },
   "file_extension": ".py",
   "mimetype": "text/x-python",
   "name": "python",
   "nbconvert_exporter": "python",
   "pygments_lexer": "ipython3",
   "version": "3.11.3"
  },
  "orig_nbformat": 4
 },
 "nbformat": 4,
 "nbformat_minor": 2
}
